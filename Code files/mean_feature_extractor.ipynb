{
 "cells": [
  {
   "cell_type": "code",
   "execution_count": 25,
   "metadata": {
    "collapsed": true
   },
   "outputs": [],
   "source": [
    "import librosa\n",
    "import librosa.display\n",
    "import os\n",
    "import numpy as np\n",
    "import csv\n",
    "import matplotlib.pyplot as plt\n",
    "import IPython.display as ipd"
   ]
  },
  {
   "cell_type": "code",
   "execution_count": 13,
   "outputs": [],
   "source": [
    "col_labels = ['filename','chroma_stft_mean','chroma_stft_var','chroma_cqt_mean','chroma_cqt_var',\n",
    "              'chroma_cens_mean', 'chroma_cens_var','rms_mean',\n",
    "              'rms_var','spectral_centroid_mean','spectral_centroid_var',\n",
    "              'spectral_bandwidth_mean','spectral_bandwidth_var',\n",
    "              'rolloff_mean','rolloff_var','flat_mean','flat_var',\n",
    "              'contrast_mean','contrast_var','zero_crossing_rate_mean',\n",
    "              'zero_crossing_rate_var','tonnetz_mean', 'tonnetz_var','mfcc12_mean',\n",
    "              'mfcc12_var','mfcc24_mean','mfcc24_var', 'mfcc48_mean', 'mfcc48_var','label']\n",
    "\n",
    "with open('../Dataset/features.csv', 'a', newline=\"\") as fp:\n",
    "    writer = csv.writer(fp)\n",
    "    writer.writerow(col_labels)"
   ],
   "metadata": {
    "collapsed": false,
    "pycharm": {
     "name": "#%%\n"
    }
   }
  },
  {
   "cell_type": "code",
   "execution_count": null,
   "outputs": [],
   "source": [
    "'''\n",
    "filename,length,chroma_stft_mean,chroma_stft_var,rms_mean,rms_var,\n",
    " spectral_centroid_mean,spectral_centroid_var,spectral_bandwidth_mean,\n",
    " spectral_bandwidth_var,rolloff_mean,rolloff_var,zero_crossing_rate_mean,\n",
    " zero_crossing_rate_var,harmony_mean,harmony_var,perceptr_mean,perceptr_var,\n",
    " tempo,mfcc1_mean,mfcc1_var,mfcc2_mean,mfcc2_var,mfcc3_mean,mfcc3_var,mfcc4_mean,\n",
    " mfcc4_var,mfcc5_mean,mfcc5_var,mfcc6_mean,mfcc6_var,mfcc7_mean,mfcc7_var,\n",
    " mfcc8_mean,mfcc8_var,mfcc9_mean,mfcc9_var,mfcc10_mean,mfcc10_var,mfcc11_mean,\n",
    " mfcc11_var,mfcc12_mean,mfcc12_var,mfcc13_mean,mfcc13_var,mfcc14_mean,mfcc14_var,\n",
    " mfcc15_mean,mfcc15_var,mfcc16_mean,mfcc16_var,mfcc17_mean,mfcc17_var\n",
    ",mfcc18_mean,mfcc18_var,mfcc19_mean,mfcc19_var,mfcc20_mean,mfcc20_var,label'''"
   ],
   "metadata": {
    "collapsed": false,
    "pycharm": {
     "name": "#%%\n"
    }
   }
  },
  {
   "cell_type": "code",
   "execution_count": 26,
   "outputs": [
    {
     "ename": "IndexError",
     "evalue": "too many indices for array: array is 1-dimensional, but 2 were indexed",
     "output_type": "error",
     "traceback": [
      "\u001B[0;31m---------------------------------------------------------------------------\u001B[0m",
      "\u001B[0;31mIndexError\u001B[0m                                Traceback (most recent call last)",
      "\u001B[0;32m<ipython-input-26-3b5d6d8897f7>\u001B[0m in \u001B[0;36m<module>\u001B[0;34m\u001B[0m\n\u001B[1;32m     11\u001B[0m         \u001B[0mdata\u001B[0m\u001B[0;34m,\u001B[0m \u001B[0msr\u001B[0m \u001B[0;34m=\u001B[0m \u001B[0mlibrosa\u001B[0m\u001B[0;34m.\u001B[0m\u001B[0mload\u001B[0m\u001B[0;34m(\u001B[0m\u001B[0mos\u001B[0m\u001B[0;34m.\u001B[0m\u001B[0mpath\u001B[0m\u001B[0;34m.\u001B[0m\u001B[0mjoin\u001B[0m\u001B[0;34m(\u001B[0m\u001B[0mdir_path\u001B[0m\u001B[0;34m,\u001B[0m \u001B[0mfile\u001B[0m\u001B[0;34m)\u001B[0m\u001B[0;34m)\u001B[0m\u001B[0;34m\u001B[0m\u001B[0;34m\u001B[0m\u001B[0m\n\u001B[1;32m     12\u001B[0m         \u001B[0;31m# librosa.display.waveplot(data[:44000], sr)\u001B[0m\u001B[0;34m\u001B[0m\u001B[0;34m\u001B[0m\u001B[0;34m\u001B[0m\u001B[0m\n\u001B[0;32m---> 13\u001B[0;31m         \u001B[0mipd\u001B[0m\u001B[0;34m.\u001B[0m\u001B[0mAudio\u001B[0m\u001B[0;34m(\u001B[0m\u001B[0mdata\u001B[0m\u001B[0;34m[\u001B[0m\u001B[0;34m:\u001B[0m\u001B[0;34m,\u001B[0m\u001B[0;36m44000\u001B[0m\u001B[0;34m]\u001B[0m\u001B[0;34m,\u001B[0m \u001B[0msr\u001B[0m\u001B[0;34m)\u001B[0m\u001B[0;34m\u001B[0m\u001B[0;34m\u001B[0m\u001B[0m\n\u001B[0m\u001B[1;32m     14\u001B[0m         \u001B[0;31m# print(sr)\u001B[0m\u001B[0;34m\u001B[0m\u001B[0;34m\u001B[0m\u001B[0;34m\u001B[0m\u001B[0m\n\u001B[1;32m     15\u001B[0m         \u001B[0;31m# Compute the features\u001B[0m\u001B[0;34m\u001B[0m\u001B[0;34m\u001B[0m\u001B[0;34m\u001B[0m\u001B[0m\n",
      "\u001B[0;31mIndexError\u001B[0m: too many indices for array: array is 1-dimensional, but 2 were indexed"
     ]
    }
   ],
   "source": [
    "chroma_feat = {\n",
    "    'mean': [],\n",
    "    'var': []\n",
    "}\n",
    "folder_name = \"../Dataset/Audio/Final Data/\"\n",
    "\n",
    "for (dir_path, sub_dir, files) in os.walk(folder_name):\n",
    "    for file in files:\n",
    "        extracted_features = []\n",
    "        #load the audio file - librosa\n",
    "        data, sr = librosa.load(os.path.join(dir_path, file))\n",
    "        # librosa.display.waveplot(data[:44000], sr)\n",
    "        # ipd.Audio(data[:,44000], sr)\n",
    "        # print(sr)\n",
    "        # Compute the features\n",
    "        # chroma = librosa.feature.chroma_stft(data, sr)\n",
    "        # print(np.var(chroma))\n",
    "        # chroma_feat['mean'].append(chroma.mean())\n",
    "        # chroma_feat['var'].append(np.var(chroma))\n",
    "\n",
    "        # chroma_cqt = librosa.feature.chroma_cqt(data, sr)\n",
    "        # chroma_cens = librosa.feature.chroma_cens(data, sr)\n",
    "        #\n",
    "        # # rmse\n",
    "        # rmse = librosa.feature.rms(data, sr)\n",
    "        #\n",
    "        # #spectral centroid\n",
    "        # s_centroid = librosa.feature.spectral_centroid(data, sr)\n",
    "        # s_band = librosa.feature.spectral_bandwidth(data, sr)\n",
    "        # s_roll = librosa.feature.spectral_rolloff(data, sr)\n",
    "        # s_flat = librosa.feature.spectral_flatness(data, sr)\n",
    "        # s_contrast = librosa.feature.spectral_contrast(data, sr)\n",
    "        # #\n",
    "        # # #zero crossinng\n",
    "        # zcr = librosa.feature.zero_crossing_rate(data)\n",
    "        # #\n",
    "        # # #tonnety\n",
    "        # tonnetz = librosa.feature.tonnetz(data, sr)\n",
    "        # #\n",
    "        # # #mfccs\n",
    "        # mfcc12 = librosa.feature.mfcc(data,sr, n_mfcc=12)\n",
    "        # mfcc24 = librosa.feature.mfcc(data,sr, n_mfcc=24)\n",
    "        # mfcc48 = librosa.feature.mfcc(data,sr, n_mfcc=48)\n",
    "        #\n",
    "        # # melspec\n",
    "\n",
    "        # mel_spec = librosa.feature.melspectrogram(data, sr)\n",
    "        # extracted_features = [file, chroma.mean(), np.var(chroma),\n",
    "        #                       chroma_cqt.mean, np.var(chroma_cqt),\n",
    "        #                       chroma_cens(), np.var(chroma_cens),\n",
    "        #                       rmse.mean(), np.var(rmse),\n",
    "        #                       s_centroid.mean(), np.var(s_centroid),\n",
    "        #                       s_band.mean(), np.var(s_band),\n",
    "        #                       s_roll.mean(), np.var(s_roll),\n",
    "        #                       # s_flat.mean(), np.var(s_flat),\n",
    "        #                       s_contrast.mean(), np.var(s_contrast),\n",
    "        #                       zcr.mean(), np.var(zcr),\n",
    "        #                       tonnetz.mean(), np.var(tonnetz),\n",
    "        #                       mfcc12.mean(), np.var(mfcc12),\n",
    "        #                       mfcc24.mean(), np.var(mfcc24),\n",
    "        #                       mfcc48.mean(), np.var(mfcc48), file.split(\"_\")[0]]\n",
    "        # ## save the data in the csv file\n",
    "        # with open('../Dataset/features.csv', 'a', newline=\"\") as fp:\n",
    "        #     writer = csv.writer(fp)\n",
    "        #     writer.writerow(extracted_features)"
   ],
   "metadata": {
    "collapsed": false,
    "pycharm": {
     "name": "#%%\n"
    }
   }
  },
  {
   "cell_type": "code",
   "execution_count": 20,
   "outputs": [
    {
     "name": "stdout",
     "output_type": "stream",
     "text": [
      "0.026989587\n"
     ]
    }
   ],
   "source": [
    "print(np.mean(rmse))\n",
    "# chroma_mean = np.array(chroma_feat)\n",
    "# print(chroma_mean.shape)\n",
    "# print(chroma_feat['var'])\n",
    "# with open('../Dataset/featurestemp.csv', 'a', newline=\"\") as fp:\n",
    "#     writer = csv.writer(fp)\n",
    "#     writer.writerow(chroma_feat['var'])"
   ],
   "metadata": {
    "collapsed": false,
    "pycharm": {
     "name": "#%%\n"
    }
   }
  },
  {
   "cell_type": "code",
   "execution_count": 6,
   "outputs": [
    {
     "name": "stdout",
     "output_type": "stream",
     "text": [
      "[[ 12288  20480]\n",
      " [ 20992  33280]\n",
      " [ 33792  44032]\n",
      " [ 45568  62976]\n",
      " [ 63488  72192]\n",
      " [ 74240  81920]\n",
      " [ 82432 100352]\n",
      " [101376 104448]]\n"
     ]
    }
   ],
   "source": [
    "file_name = \"../Dataset/Audio/Final Data/Bandipora_14062021081522614484.wav\"\n",
    "data, sr = librosa.load(file_name)\n",
    "splitted = librosa.effects.split(data, 30)\n",
    "print(splitted)\n"
   ],
   "metadata": {
    "collapsed": false,
    "pycharm": {
     "name": "#%%\n"
    }
   }
  },
  {
   "cell_type": "code",
   "execution_count": 7,
   "outputs": [
    {
     "name": "stdout",
     "output_type": "stream",
     "text": [
      "[12288 20480]\n",
      "[20992 33280]\n",
      "[33792 44032]\n",
      "[45568 62976]\n",
      "[63488 72192]\n",
      "[74240 81920]\n",
      "[ 82432 100352]\n",
      "[101376 104448]\n"
     ]
    }
   ],
   "source": [
    "new = [None]\n",
    "for row in splitted:\n",
    "    new = row"
   ],
   "metadata": {
    "collapsed": false,
    "pycharm": {
     "name": "#%%\n"
    }
   }
  },
  {
   "cell_type": "code",
   "execution_count": null,
   "outputs": [],
   "source": [],
   "metadata": {
    "collapsed": false,
    "pycharm": {
     "name": "#%%\n"
    }
   }
  }
 ],
 "metadata": {
  "kernelspec": {
   "name": "pycharm-533e4e1",
   "language": "python",
   "display_name": "PyCharm (Masters Project)"
  },
  "language_info": {
   "codemirror_mode": {
    "name": "ipython",
    "version": 2
   },
   "file_extension": ".py",
   "mimetype": "text/x-python",
   "name": "python",
   "nbconvert_exporter": "python",
   "pygments_lexer": "ipython2",
   "version": "2.7.6"
  }
 },
 "nbformat": 4,
 "nbformat_minor": 0
}