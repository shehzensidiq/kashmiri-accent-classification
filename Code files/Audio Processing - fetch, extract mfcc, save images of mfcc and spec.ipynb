{
 "nbformat": 4,
 "nbformat_minor": 0,
 "metadata": {
  "colab": {
   "name": "Audio Processing - fetch, extract mfcc, save images of mfcc and spec.ipynb",
   "provenance": [],
   "collapsed_sections": [],
   "mount_file_id": "1P2ZyOJgervy7FDkPtgPhMy_OINmY-BwW",
   "authorship_tag": "ABX9TyO0uhfcI4+kaK1Q80XzNclF"
  },
  "kernelspec": {
   "name": "pycharm-533e4e1",
   "language": "python",
   "display_name": "PyCharm (Masters Project)"
  },
  "language_info": {
   "name": "python"
  }
 },
 "cells": [
  {
   "cell_type": "code",
   "metadata": {
    "id": "uq_In1ZdERTj",
    "executionInfo": {
     "status": "ok",
     "timestamp": 1623661744366,
     "user_tz": -330,
     "elapsed": 513,
     "user": {
      "displayName": "sheh mal",
      "photoUrl": "",
      "userId": "16289089996100692924"
     }
    }
   },
   "source": [
    "import pandas as pd\n",
    "import numpy as np\n",
    "import librosa\n",
    "import librosa.display\n",
    "import datetime\n",
    "import matplotlib.pyplot as plt\n",
    "import os\n"
   ],
   "execution_count": 5,
   "outputs": []
  },
  {
   "cell_type": "code",
   "metadata": {
    "id": "nHk3zMMTQy76",
    "executionInfo": {
     "status": "ok",
     "timestamp": 1623658662923,
     "user_tz": -330,
     "elapsed": 488,
     "user": {
      "displayName": "sheh mal",
      "photoUrl": "",
      "userId": "16289089996100692924"
     }
    }
   },
   "source": [
    "BASE_PATH = '../Dataset/'\n",
    "dateFormat = '%d%m%Y%H%M%S%f'\n",
    "# datetime.datetime.now().strftime('%d%m%Y%H%M%S')"
   ],
   "execution_count": 6,
   "outputs": []
  },
  {
   "cell_type": "code",
   "metadata": {
    "id": "fZf6v2PXj9cY",
    "executionInfo": {
     "status": "ok",
     "timestamp": 1623658664545,
     "user_tz": -330,
     "elapsed": 6,
     "user": {
      "displayName": "sheh mal",
      "photoUrl": "",
      "userId": "16289089996100692924"
     }
    }
   },
   "source": [
    "# datetime.datetime.now().strftime('%d%m%Y%H%M%S%f')"
   ],
   "execution_count": 7,
   "outputs": []
  },
  {
   "cell_type": "code",
   "metadata": {
    "colab": {
     "base_uri": "https://localhost:8080/",
     "height": 205
    },
    "id": "Bp0tBA99FCqx",
    "executionInfo": {
     "status": "ok",
     "timestamp": 1623658665255,
     "user_tz": -330,
     "elapsed": 15,
     "user": {
      "displayName": "sheh mal",
      "photoUrl": "",
      "userId": "16289089996100692924"
     }
    },
    "outputId": "7de90266-e409-4f81-9575-1620ff9b3397"
   },
   "source": [
    "csvPath = BASE_PATH+\"audio_meta.csv\"\n",
    "metadata = pd.read_csv(csvPath, header=None)\n",
    "metadata.head()"
   ],
   "execution_count": 8,
   "outputs": [
    {
     "data": {
      "text/plain": "                                  0        1\n0  Kupwara_14062021081522191884.wav  Kupwara\n1  Kupwara_14062021081522204129.wav  Kupwara\n2  Kupwara_14062021081522211612.wav  Kupwara\n3  Kupwara_14062021081522222216.wav  Kupwara\n4  Kupwara_14062021081522230464.wav  Kupwara",
      "text/html": "<div>\n<style scoped>\n    .dataframe tbody tr th:only-of-type {\n        vertical-align: middle;\n    }\n\n    .dataframe tbody tr th {\n        vertical-align: top;\n    }\n\n    .dataframe thead th {\n        text-align: right;\n    }\n</style>\n<table border=\"1\" class=\"dataframe\">\n  <thead>\n    <tr style=\"text-align: right;\">\n      <th></th>\n      <th>0</th>\n      <th>1</th>\n    </tr>\n  </thead>\n  <tbody>\n    <tr>\n      <th>0</th>\n      <td>Kupwara_14062021081522191884.wav</td>\n      <td>Kupwara</td>\n    </tr>\n    <tr>\n      <th>1</th>\n      <td>Kupwara_14062021081522204129.wav</td>\n      <td>Kupwara</td>\n    </tr>\n    <tr>\n      <th>2</th>\n      <td>Kupwara_14062021081522211612.wav</td>\n      <td>Kupwara</td>\n    </tr>\n    <tr>\n      <th>3</th>\n      <td>Kupwara_14062021081522222216.wav</td>\n      <td>Kupwara</td>\n    </tr>\n    <tr>\n      <th>4</th>\n      <td>Kupwara_14062021081522230464.wav</td>\n      <td>Kupwara</td>\n    </tr>\n  </tbody>\n</table>\n</div>"
     },
     "execution_count": 8,
     "metadata": {},
     "output_type": "execute_result"
    }
   ]
  },
  {
   "cell_type": "markdown",
   "metadata": {
    "id": "E4qj8zalJl6p"
   },
   "source": [
    "# Extract Mfcc and Scale them"
   ]
  },
  {
   "cell_type": "code",
   "metadata": {
    "id": "c4Mj_wY3Hqa8",
    "executionInfo": {
     "status": "ok",
     "timestamp": 1623661628248,
     "user_tz": -330,
     "elapsed": 514,
     "user": {
      "displayName": "sheh mal",
      "photoUrl": "",
      "userId": "16289089996100692924"
     }
    }
   },
   "source": [
    "# Extract MFCC features\n",
    "def extractMfcc(audioData, sampleRate):\n",
    "    # mfcc12 = librosa.feature.mfcc(y=audioData, sr=sampleRate, n_mfcc=12)\n",
    "    mfcc24 = librosa.feature.mfcc(y=audioData, sr=sampleRate, n_mfcc=24)\n",
    "    mfcc48 = librosa.feature.mfcc(y=audioData, sr=sampleRate, n_mfcc=48)\n",
    "    mfcc96 = librosa.feature.mfcc(y=audioData, sr=sampleRate, n_mfcc=96)\n",
    "    # mfccScaled = np.mean(mfcc.T, axis=0)\n",
    "    # return mfccScaled\n",
    "    return mfcc24, mfcc48, mfcc96"
   ],
   "execution_count": 9,
   "outputs": []
  },
  {
   "cell_type": "code",
   "metadata": {
    "id": "7Cf-CxpNreZX",
    "executionInfo": {
     "status": "ok",
     "timestamp": 1623661729758,
     "user_tz": -330,
     "elapsed": 447,
     "user": {
      "displayName": "sheh mal",
      "photoUrl": "",
      "userId": "16289089996100692924"
     }
    }
   },
   "source": [
    "# function to get the MFCC spectrogram not mel spectrogram\n",
    "def getMfccSpect(mfcc, sampleRate, folName, nameLabel):\n",
    "    px = 1 / plt.rcParams['figure.dpi']\n",
    "    cmap = plt.get_cmap('inferno')\n",
    "    plt.figure(figsize=(128*px,128*px))\n",
    "    currentStamp = datetime.datetime.now().strftime(dateFormat)\n",
    "    librosa.display.specshow(mfcc,sr=sampleRate, x_axis='time', y_axis='log', cmap=cmap)\n",
    "    plt.axis('off')\n",
    "    if not os.path.exists(f\"{BASE_PATH}mfcc/{folName}\"):\n",
    "        os.mkdir(f\"{BASE_PATH}mfcc/{folName}\")\n",
    "    plt.savefig(f\"{BASE_PATH}mfcc/{folName}/{nameLabel}_{currentStamp}.png\", bbox_inches='tight',pad_inches=0.0, dpi=95)\n",
    "    print(f\"Saving MFCC Heat Map: {nameLabel}\")\n",
    "    plt.close()\n"
   ],
   "execution_count": 15,
   "outputs": []
  },
  {
   "cell_type": "code",
   "metadata": {
    "id": "P7cp-c-g_QJ7",
    "executionInfo": {
     "status": "ok",
     "timestamp": 1623661843463,
     "user_tz": -330,
     "elapsed": 582,
     "user": {
      "displayName": "sheh mal",
      "photoUrl": "",
      "userId": "16289089996100692924"
     }
    }
   },
   "source": [
    "# plotting mel spectrogramsa\n",
    "def melSpectrograms(audio, sampleRate, nameLabel):\n",
    "    px = 1 / plt.rcParams['figure.dpi']\n",
    "    cmap = plt.get_cmap('inferno')\n",
    "    # plt.figure(figsize=(128*px,128*px))\n",
    "    melSpectrogram = librosa.feature.melspectrogram(audio, sr=sampleRate, n_mels=128)\n",
    "    logMel = librosa.power_to_db(melSpectrogram)\n",
    "    librosa.display.specshow(logMel, sr=sampleRate, x_axis=\"time\", y_axis='log', cmap=cmap)\n",
    "    plt.axis('off')\n",
    "    currentStamp = datetime.datetime.now().strftime(dateFormat)\n",
    "    if not os.path.exists(f\"{BASE_PATH}spectrograms\"):\n",
    "        os.mkdir(f\"{BASE_PATH}spectrograms\")\n",
    "    plt.savefig(f\"{BASE_PATH}spectrograms/{nameLabel}_{currentStamp}.png\", bbox_inches='tight',pad_inches=0.0, dpi=95)\n",
    "    print(f\"Saving Mel Spectrogram of : {nameLabel}\")\n",
    "    plt.close()"
   ],
   "execution_count": 19,
   "outputs": []
  },
  {
   "cell_type": "code",
   "metadata": {
    "id": "M5h03gn473aC",
    "executionInfo": {
     "status": "ok",
     "timestamp": 1623658672322,
     "user_tz": -330,
     "elapsed": 6,
     "user": {
      "displayName": "sheh mal",
      "photoUrl": "",
      "userId": "16289089996100692924"
     }
    }
   },
   "source": [
    "# filename = '/content/drive/MyDrive/Masters Project/Dataset/Audio/Final Data/006258102M61l55fP180.wav'\n",
    "# data, sampleRate = librosa.load(filename)\n",
    "# spectrogram(data)\n"
   ],
   "execution_count": 12,
   "outputs": []
  },
  {
   "cell_type": "markdown",
   "metadata": {
    "id": "-9etRdmlJra8"
   },
   "source": [
    "# store MFcc and Corresponding labels in the features list"
   ]
  },
  {
   "cell_type": "code",
   "metadata": {
    "id": "h9cESVI5FImu",
    "colab": {
     "base_uri": "https://localhost:8080/"
    },
    "executionInfo": {
     "status": "ok",
     "timestamp": 1623661826060,
     "user_tz": -330,
     "elapsed": 77527,
     "user": {
      "displayName": "sheh mal",
      "photoUrl": "",
      "userId": "16289089996100692924"
     }
    },
    "outputId": "b78c4ced-dc37-4c12-c686-dc5c0fdae60f"
   },
   "source": [
    "def getFigures(folder):\n",
    "    for i, (path, subdir, files) in enumerate(os.walk(folder)):\n",
    "        # nameLabel = path.split(\"/\")[-1]\n",
    "        for file in files:\n",
    "            if file.endswith(\".wav\"):\n",
    "                fileName = file.split(\"_\")[0]\n",
    "                data, sampleRate = librosa.load(os.path.join(path, file))\n",
    "                mfcc24, mfcc48, mfcc96 = extractMfcc(data, sampleRate)\n",
    "                getMfccSpect(mfcc24, sampleRate, 'mfcc24', fileName)\n",
    "                getMfccSpect(mfcc48, sampleRate, 'mfcc48', fileName)\n",
    "                getMfccSpect(mfcc96, sampleRate, 'mfcc96', fileName)\n",
    "                melSpectrograms(data, sampleRate, fileName)"
   ],
   "execution_count": 20,
   "outputs": []
  },
  {
   "cell_type": "code",
   "execution_count": 21,
   "outputs": [
    {
     "name": "stdout",
     "output_type": "stream",
     "text": [
      "Saving Mel Spectrogram of : Kupwara\n",
      "Saving Mel Spectrogram of : Shopian\n",
      "Saving Mel Spectrogram of : Kupwara\n",
      "Saving Mel Spectrogram of : Kupwara\n",
      "Saving Mel Spectrogram of : Islamabad\n",
      "Saving Mel Spectrogram of : Islamabad\n",
      "Saving Mel Spectrogram of : Kupwara\n",
      "Saving Mel Spectrogram of : Islamabad\n",
      "Saving Mel Spectrogram of : Kupwara\n",
      "Saving Mel Spectrogram of : Islamabad\n",
      "Saving Mel Spectrogram of : Kupwara\n",
      "Saving Mel Spectrogram of : Islamabad\n",
      "Saving Mel Spectrogram of : Shopian\n",
      "Saving Mel Spectrogram of : Shopian\n",
      "Saving Mel Spectrogram of : Islamabad\n",
      "Saving Mel Spectrogram of : Shopian\n",
      "Saving Mel Spectrogram of : Kupwara\n",
      "Saving Mel Spectrogram of : Islamabad\n",
      "Saving Mel Spectrogram of : Islamabad\n",
      "Saving Mel Spectrogram of : Islamabad\n",
      "Saving Mel Spectrogram of : Islamabad\n",
      "Saving Mel Spectrogram of : Shopian\n",
      "Saving Mel Spectrogram of : Islamabad\n",
      "Saving Mel Spectrogram of : Kupwara\n",
      "Saving Mel Spectrogram of : Islamabad\n",
      "Saving Mel Spectrogram of : Islamabad\n",
      "Saving Mel Spectrogram of : Bandipora\n",
      "Saving Mel Spectrogram of : Kupwara\n",
      "Saving Mel Spectrogram of : Islamabad\n",
      "Saving Mel Spectrogram of : Kupwara\n",
      "Saving Mel Spectrogram of : Kupwara\n",
      "Saving Mel Spectrogram of : Islamabad\n",
      "Saving Mel Spectrogram of : Bandipora\n",
      "Saving Mel Spectrogram of : Kupwara\n",
      "Saving Mel Spectrogram of : Kupwara\n",
      "Saving Mel Spectrogram of : Bandipora\n",
      "Saving Mel Spectrogram of : Kupwara\n",
      "Saving Mel Spectrogram of : Kupwara\n",
      "Saving Mel Spectrogram of : Islamabad\n",
      "Saving Mel Spectrogram of : Islamabad\n",
      "Saving Mel Spectrogram of : Shopian\n",
      "Saving Mel Spectrogram of : Kupwara\n",
      "Saving Mel Spectrogram of : Bandipora\n",
      "Saving Mel Spectrogram of : Islamabad\n",
      "Saving Mel Spectrogram of : Islamabad\n",
      "Saving Mel Spectrogram of : Bandipora\n",
      "Saving Mel Spectrogram of : Islamabad\n",
      "Saving Mel Spectrogram of : Islamabad\n",
      "Saving Mel Spectrogram of : Islamabad\n",
      "Saving Mel Spectrogram of : Islamabad\n",
      "Saving Mel Spectrogram of : Islamabad\n",
      "Saving Mel Spectrogram of : Shopian\n",
      "Saving Mel Spectrogram of : Bandipora\n",
      "Saving Mel Spectrogram of : Shopian\n",
      "Saving Mel Spectrogram of : Bandipora\n",
      "Saving Mel Spectrogram of : Islamabad\n",
      "Saving Mel Spectrogram of : Kupwara\n",
      "Saving Mel Spectrogram of : Shopian\n",
      "Saving Mel Spectrogram of : Islamabad\n",
      "Saving Mel Spectrogram of : Islamabad\n",
      "Saving Mel Spectrogram of : Shopian\n",
      "Saving Mel Spectrogram of : Kupwara\n",
      "Saving Mel Spectrogram of : Kupwara\n",
      "Saving Mel Spectrogram of : Islamabad\n",
      "Saving Mel Spectrogram of : Bandipora\n",
      "Saving Mel Spectrogram of : Kupwara\n",
      "Saving Mel Spectrogram of : Islamabad\n",
      "Saving Mel Spectrogram of : Islamabad\n",
      "Saving Mel Spectrogram of : Kupwara\n",
      "Saving Mel Spectrogram of : Islamabad\n",
      "Saving Mel Spectrogram of : Kupwara\n",
      "Saving Mel Spectrogram of : Islamabad\n",
      "Saving Mel Spectrogram of : Kupwara\n",
      "Saving Mel Spectrogram of : Bandipora\n",
      "Saving Mel Spectrogram of : Shopian\n",
      "Saving Mel Spectrogram of : Bandipora\n",
      "Saving Mel Spectrogram of : Islamabad\n",
      "Saving Mel Spectrogram of : Kupwara\n",
      "Saving Mel Spectrogram of : Shopian\n",
      "Saving Mel Spectrogram of : Kupwara\n",
      "Saving Mel Spectrogram of : Kupwara\n",
      "Saving Mel Spectrogram of : Islamabad\n",
      "Saving Mel Spectrogram of : Bandipora\n",
      "Saving Mel Spectrogram of : Islamabad\n",
      "Saving Mel Spectrogram of : Kupwara\n",
      "Saving Mel Spectrogram of : Kupwara\n",
      "Saving Mel Spectrogram of : Islamabad\n",
      "Saving Mel Spectrogram of : Islamabad\n",
      "Saving Mel Spectrogram of : Kupwara\n",
      "Saving Mel Spectrogram of : Bandipora\n",
      "Saving Mel Spectrogram of : Kupwara\n",
      "Saving Mel Spectrogram of : Islamabad\n",
      "Saving Mel Spectrogram of : Kupwara\n",
      "Saving Mel Spectrogram of : Islamabad\n",
      "Saving Mel Spectrogram of : Islamabad\n",
      "Saving Mel Spectrogram of : Kupwara\n",
      "Saving Mel Spectrogram of : Islamabad\n",
      "Saving Mel Spectrogram of : Kupwara\n",
      "Saving Mel Spectrogram of : Islamabad\n",
      "Saving Mel Spectrogram of : Islamabad\n",
      "Saving Mel Spectrogram of : Kupwara\n",
      "Saving Mel Spectrogram of : Bandipora\n",
      "Saving Mel Spectrogram of : Bandipora\n",
      "Saving Mel Spectrogram of : Kupwara\n",
      "Saving Mel Spectrogram of : Shopian\n",
      "Saving Mel Spectrogram of : Islamabad\n",
      "Saving Mel Spectrogram of : Bandipora\n",
      "Saving Mel Spectrogram of : Islamabad\n",
      "Saving Mel Spectrogram of : Shopian\n",
      "Saving Mel Spectrogram of : Islamabad\n",
      "Saving Mel Spectrogram of : Islamabad\n",
      "Saving Mel Spectrogram of : Shopian\n",
      "Saving Mel Spectrogram of : Bandipora\n",
      "Saving Mel Spectrogram of : Shopian\n",
      "Saving Mel Spectrogram of : Islamabad\n",
      "Saving Mel Spectrogram of : Kupwara\n",
      "Saving Mel Spectrogram of : Islamabad\n",
      "Saving Mel Spectrogram of : Islamabad\n",
      "Saving Mel Spectrogram of : Islamabad\n",
      "Saving Mel Spectrogram of : Islamabad\n",
      "Saving Mel Spectrogram of : Islamabad\n",
      "Saving Mel Spectrogram of : Islamabad\n",
      "Saving Mel Spectrogram of : Islamabad\n",
      "Saving Mel Spectrogram of : Islamabad\n",
      "Saving Mel Spectrogram of : Shopian\n",
      "Saving Mel Spectrogram of : Islamabad\n",
      "Saving Mel Spectrogram of : Shopian\n",
      "Saving Mel Spectrogram of : Kupwara\n",
      "Saving Mel Spectrogram of : Kupwara\n",
      "Saving Mel Spectrogram of : Kupwara\n",
      "Saving Mel Spectrogram of : Shopian\n",
      "Saving Mel Spectrogram of : Bandipora\n",
      "Saving Mel Spectrogram of : Bandipora\n",
      "Saving Mel Spectrogram of : Bandipora\n",
      "Saving Mel Spectrogram of : Islamabad\n",
      "Saving Mel Spectrogram of : Kupwara\n",
      "Saving Mel Spectrogram of : Bandipora\n",
      "Saving Mel Spectrogram of : Islamabad\n",
      "Saving Mel Spectrogram of : Shopian\n",
      "Saving Mel Spectrogram of : Islamabad\n",
      "Saving Mel Spectrogram of : Kupwara\n",
      "Saving Mel Spectrogram of : Bandipora\n",
      "Saving Mel Spectrogram of : Shopian\n",
      "Saving Mel Spectrogram of : Bandipora\n",
      "Saving Mel Spectrogram of : Bandipora\n",
      "Saving Mel Spectrogram of : Bandipora\n",
      "Saving Mel Spectrogram of : Islamabad\n",
      "Saving Mel Spectrogram of : Kupwara\n",
      "Saving Mel Spectrogram of : Bandipora\n",
      "Saving Mel Spectrogram of : Islamabad\n",
      "Saving Mel Spectrogram of : Islamabad\n",
      "Saving Mel Spectrogram of : Islamabad\n",
      "Saving Mel Spectrogram of : Islamabad\n",
      "Saving Mel Spectrogram of : Kupwara\n",
      "Saving Mel Spectrogram of : Shopian\n",
      "Saving Mel Spectrogram of : Islamabad\n",
      "Saving Mel Spectrogram of : Islamabad\n",
      "Saving Mel Spectrogram of : Kupwara\n",
      "Saving Mel Spectrogram of : Shopian\n",
      "Saving Mel Spectrogram of : Kupwara\n",
      "Saving Mel Spectrogram of : Bandipora\n",
      "Saving Mel Spectrogram of : Islamabad\n",
      "Saving Mel Spectrogram of : Islamabad\n",
      "Saving Mel Spectrogram of : Kupwara\n",
      "Saving Mel Spectrogram of : Islamabad\n",
      "Saving Mel Spectrogram of : Kupwara\n",
      "Saving Mel Spectrogram of : Islamabad\n",
      "Saving Mel Spectrogram of : Kupwara\n",
      "Saving Mel Spectrogram of : Kupwara\n",
      "Saving Mel Spectrogram of : Islamabad\n",
      "Saving Mel Spectrogram of : Kupwara\n",
      "Saving Mel Spectrogram of : Islamabad\n",
      "Saving Mel Spectrogram of : Bandipora\n",
      "Saving Mel Spectrogram of : Islamabad\n",
      "Saving Mel Spectrogram of : Kupwara\n",
      "Saving Mel Spectrogram of : Kupwara\n",
      "Saving Mel Spectrogram of : Bandipora\n",
      "Saving Mel Spectrogram of : Islamabad\n",
      "Saving Mel Spectrogram of : Islamabad\n",
      "Saving Mel Spectrogram of : Islamabad\n",
      "Saving Mel Spectrogram of : Islamabad\n",
      "Saving Mel Spectrogram of : Islamabad\n",
      "Saving Mel Spectrogram of : Islamabad\n",
      "Saving Mel Spectrogram of : Islamabad\n",
      "Saving Mel Spectrogram of : Islamabad\n",
      "Saving Mel Spectrogram of : Kupwara\n",
      "Saving Mel Spectrogram of : Islamabad\n",
      "Saving Mel Spectrogram of : Islamabad\n",
      "Saving Mel Spectrogram of : Bandipora\n",
      "Saving Mel Spectrogram of : Islamabad\n",
      "Saving Mel Spectrogram of : Kupwara\n",
      "Saving Mel Spectrogram of : Islamabad\n",
      "Saving Mel Spectrogram of : Kupwara\n",
      "Saving Mel Spectrogram of : Islamabad\n",
      "Saving Mel Spectrogram of : Kupwara\n",
      "Saving Mel Spectrogram of : Shopian\n",
      "Saving Mel Spectrogram of : Kupwara\n",
      "Saving Mel Spectrogram of : Shopian\n",
      "Saving Mel Spectrogram of : Kupwara\n",
      "Saving Mel Spectrogram of : Bandipora\n",
      "Saving Mel Spectrogram of : Shopian\n",
      "Saving Mel Spectrogram of : Islamabad\n",
      "Saving Mel Spectrogram of : Kupwara\n",
      "Saving Mel Spectrogram of : Kupwara\n",
      "Saving Mel Spectrogram of : Islamabad\n",
      "Saving Mel Spectrogram of : Islamabad\n",
      "Saving Mel Spectrogram of : Islamabad\n",
      "Saving Mel Spectrogram of : Kupwara\n",
      "Saving Mel Spectrogram of : Kupwara\n",
      "Saving Mel Spectrogram of : Islamabad\n",
      "Saving Mel Spectrogram of : Kupwara\n",
      "Saving Mel Spectrogram of : Kupwara\n",
      "Saving Mel Spectrogram of : Islamabad\n",
      "Saving Mel Spectrogram of : Islamabad\n",
      "Saving Mel Spectrogram of : Bandipora\n",
      "Saving Mel Spectrogram of : Bandipora\n",
      "Saving Mel Spectrogram of : Kupwara\n",
      "Saving Mel Spectrogram of : Kupwara\n",
      "Saving Mel Spectrogram of : Islamabad\n",
      "Saving Mel Spectrogram of : Kupwara\n",
      "Saving Mel Spectrogram of : Kupwara\n",
      "Saving Mel Spectrogram of : Kupwara\n",
      "Saving Mel Spectrogram of : Islamabad\n",
      "Saving Mel Spectrogram of : Shopian\n",
      "Saving Mel Spectrogram of : Islamabad\n",
      "Saving Mel Spectrogram of : Bandipora\n",
      "Saving Mel Spectrogram of : Islamabad\n",
      "Saving Mel Spectrogram of : Kupwara\n",
      "Saving Mel Spectrogram of : Islamabad\n",
      "Saving Mel Spectrogram of : Kupwara\n",
      "Saving Mel Spectrogram of : Bandipora\n",
      "Saving Mel Spectrogram of : Islamabad\n",
      "Saving Mel Spectrogram of : Islamabad\n",
      "Saving Mel Spectrogram of : Bandipora\n",
      "Saving Mel Spectrogram of : Islamabad\n",
      "Saving Mel Spectrogram of : Bandipora\n",
      "Saving Mel Spectrogram of : Kupwara\n",
      "Saving Mel Spectrogram of : Kupwara\n",
      "Saving Mel Spectrogram of : Shopian\n",
      "Saving Mel Spectrogram of : Islamabad\n",
      "Saving Mel Spectrogram of : Islamabad\n",
      "Saving Mel Spectrogram of : Shopian\n",
      "Saving Mel Spectrogram of : Bandipora\n",
      "Saving Mel Spectrogram of : Islamabad\n",
      "Saving Mel Spectrogram of : Bandipora\n",
      "Saving Mel Spectrogram of : Kupwara\n",
      "Saving Mel Spectrogram of : Bandipora\n",
      "Saving Mel Spectrogram of : Kupwara\n",
      "Saving Mel Spectrogram of : Kupwara\n",
      "Saving Mel Spectrogram of : Kupwara\n",
      "Saving Mel Spectrogram of : Kupwara\n",
      "Saving Mel Spectrogram of : Islamabad\n",
      "Saving Mel Spectrogram of : Kupwara\n",
      "Saving Mel Spectrogram of : Bandipora\n",
      "Saving Mel Spectrogram of : Islamabad\n",
      "Saving Mel Spectrogram of : Islamabad\n",
      "Saving Mel Spectrogram of : Islamabad\n",
      "Saving Mel Spectrogram of : Islamabad\n",
      "Saving Mel Spectrogram of : Shopian\n",
      "Saving Mel Spectrogram of : Shopian\n",
      "Saving Mel Spectrogram of : Islamabad\n",
      "Saving Mel Spectrogram of : Bandipora\n",
      "Saving Mel Spectrogram of : Shopian\n",
      "Saving Mel Spectrogram of : Shopian\n",
      "Saving Mel Spectrogram of : Islamabad\n",
      "Saving Mel Spectrogram of : Shopian\n",
      "Saving Mel Spectrogram of : Islamabad\n",
      "Saving Mel Spectrogram of : Islamabad\n",
      "Saving Mel Spectrogram of : Islamabad\n",
      "Saving Mel Spectrogram of : Islamabad\n",
      "Saving Mel Spectrogram of : Shopian\n",
      "Saving Mel Spectrogram of : Islamabad\n",
      "Saving Mel Spectrogram of : Kupwara\n",
      "Saving Mel Spectrogram of : Islamabad\n",
      "Saving Mel Spectrogram of : Bandipora\n",
      "Saving Mel Spectrogram of : Shopian\n",
      "Saving Mel Spectrogram of : Islamabad\n",
      "Saving Mel Spectrogram of : Shopian\n",
      "Saving Mel Spectrogram of : Kupwara\n",
      "Saving Mel Spectrogram of : Kupwara\n",
      "Saving Mel Spectrogram of : Kupwara\n",
      "Saving Mel Spectrogram of : Islamabad\n",
      "Saving Mel Spectrogram of : Islamabad\n",
      "Saving Mel Spectrogram of : Islamabad\n",
      "Saving Mel Spectrogram of : Kupwara\n",
      "Saving Mel Spectrogram of : Kupwara\n",
      "Saving Mel Spectrogram of : Bandipora\n",
      "Saving Mel Spectrogram of : Islamabad\n",
      "Saving Mel Spectrogram of : Bandipora\n",
      "Saving Mel Spectrogram of : Islamabad\n",
      "Saving Mel Spectrogram of : Kupwara\n",
      "Saving Mel Spectrogram of : Kupwara\n",
      "Saving Mel Spectrogram of : Kupwara\n",
      "Saving Mel Spectrogram of : Kupwara\n",
      "Saving Mel Spectrogram of : Kupwara\n",
      "Saving Mel Spectrogram of : Kupwara\n",
      "Saving Mel Spectrogram of : Bandipora\n",
      "Saving Mel Spectrogram of : Shopian\n",
      "Saving Mel Spectrogram of : Kupwara\n",
      "Saving Mel Spectrogram of : Kupwara\n",
      "Saving Mel Spectrogram of : Bandipora\n",
      "Saving Mel Spectrogram of : Shopian\n",
      "Saving Mel Spectrogram of : Islamabad\n",
      "Saving Mel Spectrogram of : Islamabad\n",
      "Saving Mel Spectrogram of : Shopian\n",
      "Saving Mel Spectrogram of : Bandipora\n",
      "Saving Mel Spectrogram of : Shopian\n",
      "Saving Mel Spectrogram of : Islamabad\n",
      "Saving Mel Spectrogram of : Kupwara\n",
      "Saving Mel Spectrogram of : Islamabad\n",
      "Saving Mel Spectrogram of : Islamabad\n",
      "Saving Mel Spectrogram of : Islamabad\n",
      "Saving Mel Spectrogram of : Islamabad\n",
      "Saving Mel Spectrogram of : Islamabad\n",
      "Saving Mel Spectrogram of : Islamabad\n",
      "Saving Mel Spectrogram of : Kupwara\n",
      "Saving Mel Spectrogram of : Kupwara\n",
      "Saving Mel Spectrogram of : Bandipora\n",
      "Saving Mel Spectrogram of : Islamabad\n",
      "Saving Mel Spectrogram of : Islamabad\n",
      "Saving Mel Spectrogram of : Islamabad\n",
      "Saving Mel Spectrogram of : Kupwara\n",
      "Saving Mel Spectrogram of : Islamabad\n",
      "Saving Mel Spectrogram of : Islamabad\n",
      "Saving Mel Spectrogram of : Islamabad\n",
      "Saving Mel Spectrogram of : Kupwara\n",
      "Saving Mel Spectrogram of : Islamabad\n",
      "Saving Mel Spectrogram of : Bandipora\n",
      "Saving Mel Spectrogram of : Kupwara\n",
      "Saving Mel Spectrogram of : Shopian\n",
      "Saving Mel Spectrogram of : Islamabad\n",
      "Saving Mel Spectrogram of : Bandipora\n",
      "Saving Mel Spectrogram of : Islamabad\n",
      "Saving Mel Spectrogram of : Bandipora\n",
      "Saving Mel Spectrogram of : Islamabad\n",
      "Saving Mel Spectrogram of : Islamabad\n",
      "Saving Mel Spectrogram of : Islamabad\n",
      "Saving Mel Spectrogram of : Islamabad\n",
      "Saving Mel Spectrogram of : Bandipora\n",
      "Saving Mel Spectrogram of : Shopian\n",
      "Saving Mel Spectrogram of : Shopian\n",
      "Saving Mel Spectrogram of : Islamabad\n",
      "Saving Mel Spectrogram of : Shopian\n",
      "Saving Mel Spectrogram of : Islamabad\n",
      "Saving Mel Spectrogram of : Islamabad\n",
      "Saving Mel Spectrogram of : Kupwara\n",
      "Saving Mel Spectrogram of : Islamabad\n",
      "Saving Mel Spectrogram of : Kupwara\n",
      "Saving Mel Spectrogram of : Islamabad\n",
      "Saving Mel Spectrogram of : Bandipora\n",
      "Saving Mel Spectrogram of : Shopian\n",
      "Saving Mel Spectrogram of : Islamabad\n",
      "Saving Mel Spectrogram of : Islamabad\n",
      "Saving Mel Spectrogram of : Islamabad\n",
      "Saving Mel Spectrogram of : Kupwara\n",
      "Saving Mel Spectrogram of : Islamabad\n",
      "Saving Mel Spectrogram of : Islamabad\n",
      "Saving Mel Spectrogram of : Kupwara\n",
      "Saving Mel Spectrogram of : Islamabad\n",
      "Saving Mel Spectrogram of : Islamabad\n",
      "Saving Mel Spectrogram of : Islamabad\n",
      "Saving Mel Spectrogram of : Kupwara\n",
      "Saving Mel Spectrogram of : Shopian\n",
      "Saving Mel Spectrogram of : Islamabad\n",
      "Saving Mel Spectrogram of : Kupwara\n",
      "Saving Mel Spectrogram of : Shopian\n",
      "Saving Mel Spectrogram of : Kupwara\n",
      "Saving Mel Spectrogram of : Islamabad\n",
      "Saving Mel Spectrogram of : Islamabad\n",
      "Saving Mel Spectrogram of : Kupwara\n",
      "Saving Mel Spectrogram of : Shopian\n",
      "Saving Mel Spectrogram of : Kupwara\n",
      "Saving Mel Spectrogram of : Kupwara\n",
      "Saving Mel Spectrogram of : Kupwara\n",
      "Saving Mel Spectrogram of : Kupwara\n",
      "Saving Mel Spectrogram of : Kupwara\n",
      "Saving Mel Spectrogram of : Islamabad\n",
      "Saving Mel Spectrogram of : Shopian\n",
      "Saving Mel Spectrogram of : Kupwara\n",
      "Saving Mel Spectrogram of : Islamabad\n",
      "Saving Mel Spectrogram of : Kupwara\n",
      "Saving Mel Spectrogram of : Shopian\n",
      "Saving Mel Spectrogram of : Islamabad\n",
      "Saving Mel Spectrogram of : Islamabad\n",
      "Saving Mel Spectrogram of : Kupwara\n",
      "Saving Mel Spectrogram of : Bandipora\n",
      "Saving Mel Spectrogram of : Kupwara\n",
      "Saving Mel Spectrogram of : Bandipora\n",
      "Saving Mel Spectrogram of : Islamabad\n",
      "Saving Mel Spectrogram of : Kupwara\n",
      "Saving Mel Spectrogram of : Kupwara\n",
      "Saving Mel Spectrogram of : Bandipora\n",
      "Saving Mel Spectrogram of : Islamabad\n",
      "Saving Mel Spectrogram of : Islamabad\n",
      "Saving Mel Spectrogram of : Islamabad\n",
      "Saving Mel Spectrogram of : Kupwara\n",
      "Saving Mel Spectrogram of : Islamabad\n",
      "Saving Mel Spectrogram of : Kupwara\n",
      "Saving Mel Spectrogram of : Shopian\n",
      "Saving Mel Spectrogram of : Shopian\n",
      "Saving Mel Spectrogram of : Kupwara\n",
      "Saving Mel Spectrogram of : Shopian\n",
      "Saving Mel Spectrogram of : Kupwara\n",
      "Saving Mel Spectrogram of : Islamabad\n",
      "Saving Mel Spectrogram of : Islamabad\n",
      "Saving Mel Spectrogram of : Islamabad\n",
      "Saving Mel Spectrogram of : Islamabad\n",
      "Saving Mel Spectrogram of : Shopian\n",
      "Saving Mel Spectrogram of : Kupwara\n",
      "Saving Mel Spectrogram of : Bandipora\n",
      "Saving Mel Spectrogram of : Shopian\n",
      "Saving Mel Spectrogram of : Islamabad\n",
      "Saving Mel Spectrogram of : Kupwara\n",
      "Saving Mel Spectrogram of : Islamabad\n",
      "Saving Mel Spectrogram of : Islamabad\n",
      "Saving Mel Spectrogram of : Islamabad\n",
      "Saving Mel Spectrogram of : Kupwara\n",
      "Saving Mel Spectrogram of : Bandipora\n",
      "Saving Mel Spectrogram of : Kupwara\n",
      "Saving Mel Spectrogram of : Bandipora\n",
      "Saving Mel Spectrogram of : Shopian\n",
      "Saving Mel Spectrogram of : Shopian\n",
      "Saving Mel Spectrogram of : Bandipora\n",
      "Saving Mel Spectrogram of : Kupwara\n",
      "Saving Mel Spectrogram of : Islamabad\n",
      "Saving Mel Spectrogram of : Islamabad\n",
      "Saving Mel Spectrogram of : Kupwara\n",
      "Saving Mel Spectrogram of : Islamabad\n",
      "Saving Mel Spectrogram of : Kupwara\n",
      "Saving Mel Spectrogram of : Islamabad\n",
      "Saving Mel Spectrogram of : Shopian\n",
      "Saving Mel Spectrogram of : Islamabad\n",
      "Saving Mel Spectrogram of : Kupwara\n",
      "Saving Mel Spectrogram of : Bandipora\n",
      "Saving Mel Spectrogram of : Islamabad\n",
      "Saving Mel Spectrogram of : Islamabad\n",
      "Saving Mel Spectrogram of : Bandipora\n",
      "Saving Mel Spectrogram of : Kupwara\n",
      "Saving Mel Spectrogram of : Shopian\n",
      "Saving Mel Spectrogram of : Islamabad\n",
      "Saving Mel Spectrogram of : Bandipora\n",
      "Saving Mel Spectrogram of : Shopian\n",
      "Saving Mel Spectrogram of : Bandipora\n",
      "Saving Mel Spectrogram of : Islamabad\n",
      "Saving Mel Spectrogram of : Kupwara\n",
      "Saving Mel Spectrogram of : Islamabad\n",
      "Saving Mel Spectrogram of : Kupwara\n",
      "Saving Mel Spectrogram of : Bandipora\n",
      "Saving Mel Spectrogram of : Islamabad\n",
      "Saving Mel Spectrogram of : Shopian\n",
      "Saving Mel Spectrogram of : Bandipora\n",
      "Saving Mel Spectrogram of : Shopian\n",
      "Saving Mel Spectrogram of : Kupwara\n",
      "Saving Mel Spectrogram of : Shopian\n",
      "Saving Mel Spectrogram of : Islamabad\n",
      "Saving Mel Spectrogram of : Kupwara\n",
      "Saving Mel Spectrogram of : Islamabad\n",
      "Saving Mel Spectrogram of : Kupwara\n",
      "Saving Mel Spectrogram of : Islamabad\n",
      "Saving Mel Spectrogram of : Islamabad\n",
      "Saving Mel Spectrogram of : Islamabad\n",
      "Saving Mel Spectrogram of : Islamabad\n",
      "Saving Mel Spectrogram of : Kupwara\n",
      "Saving Mel Spectrogram of : Islamabad\n",
      "Saving Mel Spectrogram of : Islamabad\n",
      "Saving Mel Spectrogram of : Kupwara\n",
      "Saving Mel Spectrogram of : Kupwara\n",
      "Saving Mel Spectrogram of : Kupwara\n",
      "Saving Mel Spectrogram of : Islamabad\n",
      "Saving Mel Spectrogram of : Shopian\n",
      "Saving Mel Spectrogram of : Kupwara\n",
      "Saving Mel Spectrogram of : Islamabad\n",
      "Saving Mel Spectrogram of : Islamabad\n",
      "Saving Mel Spectrogram of : Islamabad\n",
      "Saving Mel Spectrogram of : Kupwara\n",
      "Saving Mel Spectrogram of : Islamabad\n",
      "Saving Mel Spectrogram of : Islamabad\n",
      "Saving Mel Spectrogram of : Islamabad\n",
      "Saving Mel Spectrogram of : Islamabad\n",
      "Saving Mel Spectrogram of : Shopian\n",
      "Saving Mel Spectrogram of : Islamabad\n",
      "Saving Mel Spectrogram of : Islamabad\n",
      "Saving Mel Spectrogram of : Islamabad\n",
      "Saving Mel Spectrogram of : Islamabad\n",
      "Saving Mel Spectrogram of : Shopian\n",
      "Saving Mel Spectrogram of : Kupwara\n",
      "Saving Mel Spectrogram of : Islamabad\n",
      "Saving Mel Spectrogram of : Kupwara\n",
      "Saving Mel Spectrogram of : Islamabad\n",
      "Saving Mel Spectrogram of : Islamabad\n",
      "Saving Mel Spectrogram of : Kupwara\n",
      "Saving Mel Spectrogram of : Kupwara\n",
      "Saving Mel Spectrogram of : Kupwara\n",
      "Saving Mel Spectrogram of : Kupwara\n",
      "Saving Mel Spectrogram of : Kupwara\n",
      "Saving Mel Spectrogram of : Kupwara\n",
      "Saving Mel Spectrogram of : Islamabad\n",
      "Saving Mel Spectrogram of : Kupwara\n",
      "Saving Mel Spectrogram of : Islamabad\n",
      "Saving Mel Spectrogram of : Kupwara\n",
      "Saving Mel Spectrogram of : Bandipora\n",
      "Saving Mel Spectrogram of : Bandipora\n",
      "Saving Mel Spectrogram of : Bandipora\n",
      "Saving Mel Spectrogram of : Kupwara\n",
      "Saving Mel Spectrogram of : Kupwara\n",
      "Saving Mel Spectrogram of : Kupwara\n",
      "Saving Mel Spectrogram of : Bandipora\n",
      "Saving Mel Spectrogram of : Islamabad\n",
      "Saving Mel Spectrogram of : Kupwara\n",
      "Saving Mel Spectrogram of : Shopian\n",
      "Saving Mel Spectrogram of : Islamabad\n",
      "Saving Mel Spectrogram of : Kupwara\n",
      "Saving Mel Spectrogram of : Shopian\n",
      "Saving Mel Spectrogram of : Islamabad\n",
      "Saving Mel Spectrogram of : Islamabad\n",
      "Saving Mel Spectrogram of : Shopian\n",
      "Saving Mel Spectrogram of : Islamabad\n",
      "Saving Mel Spectrogram of : Islamabad\n",
      "Saving Mel Spectrogram of : Shopian\n",
      "Saving Mel Spectrogram of : Bandipora\n",
      "Saving Mel Spectrogram of : Bandipora\n",
      "Saving Mel Spectrogram of : Islamabad\n",
      "Saving Mel Spectrogram of : Kupwara\n",
      "Saving Mel Spectrogram of : Bandipora\n",
      "Saving Mel Spectrogram of : Kupwara\n",
      "Saving Mel Spectrogram of : Shopian\n",
      "Saving Mel Spectrogram of : Kupwara\n",
      "Saving Mel Spectrogram of : Islamabad\n",
      "Saving Mel Spectrogram of : Shopian\n",
      "Saving Mel Spectrogram of : Kupwara\n",
      "Saving Mel Spectrogram of : Shopian\n",
      "Saving Mel Spectrogram of : Islamabad\n",
      "Saving Mel Spectrogram of : Islamabad\n",
      "Saving Mel Spectrogram of : Bandipora\n",
      "Saving Mel Spectrogram of : Islamabad\n",
      "Saving Mel Spectrogram of : Islamabad\n",
      "Saving Mel Spectrogram of : Shopian\n",
      "Saving Mel Spectrogram of : Islamabad\n",
      "Saving Mel Spectrogram of : Bandipora\n",
      "Saving Mel Spectrogram of : Bandipora\n",
      "Saving Mel Spectrogram of : Bandipora\n",
      "Saving Mel Spectrogram of : Shopian\n",
      "Saving Mel Spectrogram of : Kupwara\n",
      "Saving Mel Spectrogram of : Islamabad\n",
      "Saving Mel Spectrogram of : Islamabad\n",
      "Saving Mel Spectrogram of : Islamabad\n",
      "Saving Mel Spectrogram of : Islamabad\n",
      "Saving Mel Spectrogram of : Kupwara\n",
      "Saving Mel Spectrogram of : Islamabad\n",
      "Saving Mel Spectrogram of : Shopian\n",
      "Saving Mel Spectrogram of : Kupwara\n",
      "Saving Mel Spectrogram of : Kupwara\n",
      "Saving Mel Spectrogram of : Islamabad\n",
      "Saving Mel Spectrogram of : Islamabad\n",
      "Saving Mel Spectrogram of : Islamabad\n",
      "Saving Mel Spectrogram of : Islamabad\n",
      "Saving Mel Spectrogram of : Kupwara\n",
      "Saving Mel Spectrogram of : Kupwara\n",
      "Saving Mel Spectrogram of : Islamabad\n",
      "Saving Mel Spectrogram of : Islamabad\n",
      "Saving Mel Spectrogram of : Kupwara\n",
      "Saving Mel Spectrogram of : Kupwara\n",
      "Saving Mel Spectrogram of : Shopian\n",
      "Saving Mel Spectrogram of : Kupwara\n",
      "Saving Mel Spectrogram of : Shopian\n",
      "Saving Mel Spectrogram of : Shopian\n",
      "Saving Mel Spectrogram of : Kupwara\n",
      "Saving Mel Spectrogram of : Islamabad\n",
      "Saving Mel Spectrogram of : Bandipora\n",
      "Saving Mel Spectrogram of : Islamabad\n",
      "Saving Mel Spectrogram of : Islamabad\n",
      "Saving Mel Spectrogram of : Bandipora\n",
      "Saving Mel Spectrogram of : Kupwara\n",
      "Saving Mel Spectrogram of : Bandipora\n",
      "Saving Mel Spectrogram of : Islamabad\n",
      "Saving Mel Spectrogram of : Kupwara\n",
      "Saving Mel Spectrogram of : Islamabad\n",
      "Saving Mel Spectrogram of : Islamabad\n",
      "Saving Mel Spectrogram of : Kupwara\n",
      "Saving Mel Spectrogram of : Islamabad\n",
      "Saving Mel Spectrogram of : Islamabad\n",
      "Saving Mel Spectrogram of : Bandipora\n",
      "Saving Mel Spectrogram of : Islamabad\n",
      "Saving Mel Spectrogram of : Shopian\n",
      "Saving Mel Spectrogram of : Kupwara\n",
      "Saving Mel Spectrogram of : Shopian\n",
      "Saving Mel Spectrogram of : Shopian\n",
      "Saving Mel Spectrogram of : Islamabad\n",
      "Saving Mel Spectrogram of : Islamabad\n",
      "Saving Mel Spectrogram of : Islamabad\n",
      "Saving Mel Spectrogram of : Kupwara\n",
      "Saving Mel Spectrogram of : Shopian\n",
      "Saving Mel Spectrogram of : Kupwara\n",
      "Saving Mel Spectrogram of : Islamabad\n",
      "Saving Mel Spectrogram of : Kupwara\n",
      "Saving Mel Spectrogram of : Islamabad\n",
      "Saving Mel Spectrogram of : Bandipora\n",
      "Saving Mel Spectrogram of : Shopian\n",
      "Saving Mel Spectrogram of : Islamabad\n",
      "Saving Mel Spectrogram of : Islamabad\n",
      "Saving Mel Spectrogram of : Bandipora\n",
      "Saving Mel Spectrogram of : Bandipora\n",
      "Saving Mel Spectrogram of : Kupwara\n",
      "Saving Mel Spectrogram of : Bandipora\n",
      "Saving Mel Spectrogram of : Bandipora\n",
      "Saving Mel Spectrogram of : Shopian\n",
      "Saving Mel Spectrogram of : Kupwara\n",
      "Saving Mel Spectrogram of : Islamabad\n",
      "Saving Mel Spectrogram of : Kupwara\n",
      "Saving Mel Spectrogram of : Bandipora\n",
      "Saving Mel Spectrogram of : Shopian\n",
      "Saving Mel Spectrogram of : Kupwara\n",
      "Saving Mel Spectrogram of : Islamabad\n",
      "Saving Mel Spectrogram of : Kupwara\n",
      "Saving Mel Spectrogram of : Bandipora\n",
      "Saving Mel Spectrogram of : Shopian\n",
      "Saving Mel Spectrogram of : Islamabad\n",
      "Saving Mel Spectrogram of : Islamabad\n",
      "Saving Mel Spectrogram of : Islamabad\n",
      "Saving Mel Spectrogram of : Islamabad\n",
      "Saving Mel Spectrogram of : Kupwara\n",
      "Saving Mel Spectrogram of : Islamabad\n",
      "Saving Mel Spectrogram of : Islamabad\n",
      "Saving Mel Spectrogram of : Islamabad\n",
      "Saving Mel Spectrogram of : Islamabad\n",
      "Saving Mel Spectrogram of : Kupwara\n",
      "Saving Mel Spectrogram of : Islamabad\n",
      "Saving Mel Spectrogram of : Islamabad\n",
      "Saving Mel Spectrogram of : Shopian\n",
      "Saving Mel Spectrogram of : Bandipora\n",
      "Saving Mel Spectrogram of : Kupwara\n",
      "Saving Mel Spectrogram of : Bandipora\n",
      "Saving Mel Spectrogram of : Islamabad\n",
      "Saving Mel Spectrogram of : Kupwara\n",
      "Saving Mel Spectrogram of : Islamabad\n",
      "Saving Mel Spectrogram of : Islamabad\n",
      "Saving Mel Spectrogram of : Islamabad\n",
      "Saving Mel Spectrogram of : Shopian\n",
      "Saving Mel Spectrogram of : Shopian\n",
      "Saving Mel Spectrogram of : Bandipora\n",
      "Saving Mel Spectrogram of : Kupwara\n",
      "Saving Mel Spectrogram of : Islamabad\n",
      "Saving Mel Spectrogram of : Bandipora\n",
      "Saving Mel Spectrogram of : Islamabad\n",
      "Saving Mel Spectrogram of : Shopian\n",
      "Saving Mel Spectrogram of : Islamabad\n",
      "Saving Mel Spectrogram of : Islamabad\n",
      "Saving Mel Spectrogram of : Islamabad\n",
      "Saving Mel Spectrogram of : Kupwara\n",
      "Saving Mel Spectrogram of : Kupwara\n",
      "Saving Mel Spectrogram of : Kupwara\n",
      "Saving Mel Spectrogram of : Kupwara\n",
      "Saving Mel Spectrogram of : Islamabad\n",
      "Saving Mel Spectrogram of : Islamabad\n",
      "Saving Mel Spectrogram of : Kupwara\n",
      "Saving Mel Spectrogram of : Islamabad\n",
      "Saving Mel Spectrogram of : Islamabad\n",
      "Saving Mel Spectrogram of : Kupwara\n",
      "Saving Mel Spectrogram of : Islamabad\n",
      "Saving Mel Spectrogram of : Kupwara\n",
      "Saving Mel Spectrogram of : Islamabad\n",
      "Saving Mel Spectrogram of : Islamabad\n",
      "Saving Mel Spectrogram of : Kupwara\n",
      "Saving Mel Spectrogram of : Kupwara\n",
      "Saving Mel Spectrogram of : Islamabad\n",
      "Saving Mel Spectrogram of : Shopian\n",
      "Saving Mel Spectrogram of : Bandipora\n",
      "Saving Mel Spectrogram of : Islamabad\n",
      "Saving Mel Spectrogram of : Shopian\n",
      "Saving Mel Spectrogram of : Shopian\n",
      "Saving Mel Spectrogram of : Islamabad\n",
      "Saving Mel Spectrogram of : Kupwara\n",
      "Saving Mel Spectrogram of : Kupwara\n",
      "Saving Mel Spectrogram of : Shopian\n",
      "Saving Mel Spectrogram of : Bandipora\n",
      "Saving Mel Spectrogram of : Islamabad\n",
      "Saving Mel Spectrogram of : Kupwara\n",
      "Saving Mel Spectrogram of : Shopian\n",
      "Saving Mel Spectrogram of : Islamabad\n",
      "Saving Mel Spectrogram of : Islamabad\n",
      "Saving Mel Spectrogram of : Islamabad\n",
      "Saving Mel Spectrogram of : Islamabad\n",
      "Saving Mel Spectrogram of : Islamabad\n",
      "Saving Mel Spectrogram of : Islamabad\n",
      "Saving Mel Spectrogram of : Bandipora\n",
      "Saving Mel Spectrogram of : Kupwara\n",
      "Saving Mel Spectrogram of : Kupwara\n",
      "Saving Mel Spectrogram of : Bandipora\n",
      "Saving Mel Spectrogram of : Shopian\n",
      "Saving Mel Spectrogram of : Kupwara\n",
      "Saving Mel Spectrogram of : Bandipora\n",
      "Saving Mel Spectrogram of : Islamabad\n",
      "Saving Mel Spectrogram of : Islamabad\n",
      "Saving Mel Spectrogram of : Shopian\n",
      "Saving Mel Spectrogram of : Bandipora\n",
      "Saving Mel Spectrogram of : Islamabad\n",
      "Saving Mel Spectrogram of : Kupwara\n",
      "Saving Mel Spectrogram of : Islamabad\n",
      "Saving Mel Spectrogram of : Bandipora\n",
      "Saving Mel Spectrogram of : Bandipora\n",
      "Saving Mel Spectrogram of : Islamabad\n",
      "Saving Mel Spectrogram of : Islamabad\n",
      "Saving Mel Spectrogram of : Islamabad\n",
      "Saving Mel Spectrogram of : Shopian\n",
      "Saving Mel Spectrogram of : Kupwara\n"
     ]
    }
   ],
   "source": [
    "folder = \"../Dataset/\"\n",
    "getFigures(folder)"
   ],
   "metadata": {
    "collapsed": false,
    "pycharm": {
     "name": "#%%\n"
    }
   }
  },
  {
   "cell_type": "code",
   "execution_count": null,
   "outputs": [],
   "source": [
    "import matplotlib.pyplot as plt\n",
    "features = []\n",
    "for index, row in metadata.iterrows():\n",
    "    filename = f\"{BASE_PATH}Audio/Final Data/{row[0]}\"\n",
    "    data, sampleRate = librosa.load(filename)\n",
    "    # trimAudio, _ = librosa.effects.trim(data, top_db=30)\n",
    "    # intervals = librosa.effects.split(trimed_audio)\n",
    "    # currentLabel = row['class_label']\n",
    "    currentLabel = row[1]\n",
    "    mfcc24, mfcc48, mfcc96 = extractMfcc(data, sampleRate)\n",
    "    getMfccSpect(mfcc24, sampleRate, 'mfcc24')\n",
    "    getMfccSpect(mfcc48, sampleRate, 'mfcc48')\n",
    "    getMfccSpect(mfcc96, sampleRate, 'mfcc96')\n",
    "    # melSpectrograms(data, sampleRate)\n",
    "    "
   ],
   "metadata": {
    "collapsed": false,
    "pycharm": {
     "name": "#%%\n"
    }
   }
  },
  {
   "cell_type": "markdown",
   "metadata": {
    "id": "hlBrFkyiJzDq"
   },
   "source": [
    "# Create the dataframe from the extarcted features"
   ]
  },
  {
   "cell_type": "code",
   "metadata": {
    "colab": {
     "base_uri": "https://localhost:8080/",
     "height": 205
    },
    "id": "4CnDXByJGO1y",
    "executionInfo": {
     "status": "ok",
     "timestamp": 1622888147216,
     "user_tz": -330,
     "elapsed": 721,
     "user": {
      "displayName": "sheh mal",
      "photoUrl": "",
      "userId": "16289089996100692924"
     }
    },
    "outputId": "a5ae3f7e-d210-46e8-cd81-e88a083780e9"
   },
   "source": [
    "    mfccDf = pd.DataFrame(features, columns=['mfcc_features', 'label'])\n",
    "    mfccDf.head()"
   ],
   "execution_count": null,
   "outputs": []
  },
  {
   "cell_type": "markdown",
   "metadata": {
    "id": "f0JJW50gJO3g"
   },
   "source": [
    "# Trying the deep learning for training"
   ]
  },
  {
   "cell_type": "code",
   "metadata": {
    "id": "qnTWY8SGxRMd"
   },
   "source": [
    "from sklearn.model_selection import train_test_split"
   ],
   "execution_count": null,
   "outputs": []
  },
  {
   "cell_type": "code",
   "metadata": {
    "id": "zYURjBju6NqX"
   },
   "source": [
    "X = np.array(mfccDf[\"mfcc_features\"].tolist())\n",
    "y =np.array(mfccDf[\"label\"].tolist())"
   ],
   "execution_count": null,
   "outputs": []
  },
  {
   "cell_type": "code",
   "metadata": {
    "colab": {
     "base_uri": "https://localhost:8080/"
    },
    "id": "YKRyWXgUCOY0",
    "executionInfo": {
     "status": "ok",
     "timestamp": 1622559728074,
     "user_tz": -330,
     "elapsed": 87,
     "user": {
      "displayName": "sheh mal",
      "photoUrl": "",
      "userId": "16289089996100692924"
     }
    },
    "outputId": "d171aab3-982a-4a76-c72a-7debf014040b"
   },
   "source": [
    "type(X)"
   ],
   "execution_count": null,
   "outputs": [
    {
     "output_type": "execute_result",
     "data": {
      "text/plain": [
       "numpy.ndarray"
      ]
     },
     "metadata": {
      "tags": []
     },
     "execution_count": 8
    }
   ]
  },
  {
   "cell_type": "code",
   "metadata": {
    "id": "X49iKi9u58Lf"
   },
   "source": [
    "trainx, testx, trainy, testy = train_test_split(X, y, test_size=0.1, random_state=1)"
   ],
   "execution_count": null,
   "outputs": []
  },
  {
   "cell_type": "code",
   "metadata": {
    "colab": {
     "base_uri": "https://localhost:8080/"
    },
    "id": "JJ1E7k3r6dWM",
    "executionInfo": {
     "status": "ok",
     "timestamp": 1622559728096,
     "user_tz": -330,
     "elapsed": 102,
     "user": {
      "displayName": "sheh mal",
      "photoUrl": "",
      "userId": "16289089996100692924"
     }
    },
    "outputId": "ef7bbca9-4e60-4c62-d268-8ff62be524c2"
   },
   "source": [
    "trainx.shape"
   ],
   "execution_count": null,
   "outputs": [
    {
     "output_type": "execute_result",
     "data": {
      "text/plain": [
       "(27, 20)"
      ]
     },
     "metadata": {
      "tags": []
     },
     "execution_count": 10
    }
   ]
  },
  {
   "cell_type": "code",
   "metadata": {
    "id": "jBOcNYKc6hDW"
   },
   "source": [
    "import tensorflow as tf"
   ],
   "execution_count": null,
   "outputs": []
  },
  {
   "cell_type": "code",
   "metadata": {
    "colab": {
     "base_uri": "https://localhost:8080/",
     "height": 35
    },
    "id": "IU5gYKij8_Kk",
    "executionInfo": {
     "status": "ok",
     "timestamp": 1622559730212,
     "user_tz": -330,
     "elapsed": 44,
     "user": {
      "displayName": "sheh mal",
      "photoUrl": "",
      "userId": "16289089996100692924"
     }
    },
    "outputId": "7beba27c-ed28-446c-e14d-b3218f7d3bb5"
   },
   "source": [
    "tf.__version__"
   ],
   "execution_count": null,
   "outputs": [
    {
     "output_type": "execute_result",
     "data": {
      "application/vnd.google.colaboratory.intrinsic+json": {
       "type": "string"
      },
      "text/plain": [
       "'2.5.0'"
      ]
     },
     "metadata": {
      "tags": []
     },
     "execution_count": 12
    }
   ]
  },
  {
   "cell_type": "code",
   "metadata": {
    "id": "QD_6UZjv9CUn"
   },
   "source": [
    "from sklearn.preprocessing import LabelEncoder\n",
    "le = LabelEncoder()\n",
    "trainy = le.fit_transform(trainy)\n",
    "testy = le.transform(testy)"
   ],
   "execution_count": null,
   "outputs": []
  },
  {
   "cell_type": "code",
   "metadata": {
    "id": "x8qrtAfm_I-J"
   },
   "source": [
    "trainy = trainy.reshape(27,1)"
   ],
   "execution_count": null,
   "outputs": []
  },
  {
   "cell_type": "code",
   "metadata": {
    "colab": {
     "base_uri": "https://localhost:8080/"
    },
    "id": "UwBTsACl_LTV",
    "executionInfo": {
     "status": "ok",
     "timestamp": 1622559730215,
     "user_tz": -330,
     "elapsed": 41,
     "user": {
      "displayName": "sheh mal",
      "photoUrl": "",
      "userId": "16289089996100692924"
     }
    },
    "outputId": "6f7e5b7a-2cc8-4fc1-9358-c7124be0042b"
   },
   "source": [
    "trainy.shape"
   ],
   "execution_count": null,
   "outputs": [
    {
     "output_type": "execute_result",
     "data": {
      "text/plain": [
       "(27, 1)"
      ]
     },
     "metadata": {
      "tags": []
     },
     "execution_count": 15
    }
   ]
  },
  {
   "cell_type": "code",
   "metadata": {
    "colab": {
     "base_uri": "https://localhost:8080/"
    },
    "id": "y8cRDwMF_N9M",
    "executionInfo": {
     "status": "ok",
     "timestamp": 1622559730217,
     "user_tz": -330,
     "elapsed": 38,
     "user": {
      "displayName": "sheh mal",
      "photoUrl": "",
      "userId": "16289089996100692924"
     }
    },
    "outputId": "ead923a5-ead8-4f25-ae93-ed6a3756d0fd"
   },
   "source": [
    "testy"
   ],
   "execution_count": null,
   "outputs": [
    {
     "output_type": "execute_result",
     "data": {
      "text/plain": [
       "array([1, 0, 1, 1])"
      ]
     },
     "metadata": {
      "tags": []
     },
     "execution_count": 16
    }
   ]
  },
  {
   "cell_type": "code",
   "metadata": {
    "id": "StKz3t37_x9c"
   },
   "source": [
    "model = tf.keras.models.Sequential()"
   ],
   "execution_count": null,
   "outputs": []
  },
  {
   "cell_type": "code",
   "metadata": {
    "id": "3u8_-lDz_3y8"
   },
   "source": [
    "model.add(tf.keras.layers.Dense(units=100, activation=\"relu\", input_shape=(20,)))\n",
    "model.add(tf.keras.layers.Dense(units=200, activation='relu'))\n",
    "model.add(tf.keras.layers.Dense(units=1, activation='softmax'))"
   ],
   "execution_count": null,
   "outputs": []
  },
  {
   "cell_type": "code",
   "metadata": {
    "colab": {
     "base_uri": "https://localhost:8080/"
    },
    "id": "OsYPnd3cC_ID",
    "executionInfo": {
     "status": "ok",
     "timestamp": 1622559730225,
     "user_tz": -330,
     "elapsed": 41,
     "user": {
      "displayName": "sheh mal",
      "photoUrl": "",
      "userId": "16289089996100692924"
     }
    },
    "outputId": "786a046a-441b-4643-e62c-4b117c0a460d"
   },
   "source": [
    "model.summary()"
   ],
   "execution_count": null,
   "outputs": [
    {
     "output_type": "stream",
     "text": [
      "Model: \"sequential\"\n",
      "_________________________________________________________________\n",
      "Layer (type)                 Output Shape              Param #   \n",
      "=================================================================\n",
      "dense (Dense)                (None, 100)               2100      \n",
      "_________________________________________________________________\n",
      "dense_1 (Dense)              (None, 200)               20200     \n",
      "_________________________________________________________________\n",
      "dense_2 (Dense)              (None, 1)                 201       \n",
      "=================================================================\n",
      "Total params: 22,501\n",
      "Trainable params: 22,501\n",
      "Non-trainable params: 0\n",
      "_________________________________________________________________\n"
     ],
     "name": "stdout"
    }
   ]
  },
  {
   "cell_type": "markdown",
   "metadata": {
    "id": "qxhdW0c6DJN8"
   },
   "source": [
    ""
   ]
  },
  {
   "cell_type": "code",
   "metadata": {
    "id": "8hb5n52zAo-G"
   },
   "source": [
    "model.compile(optimizer='adam', loss=\"categorical_crossentropy\", metrics=['accuracy'])"
   ],
   "execution_count": null,
   "outputs": []
  },
  {
   "cell_type": "code",
   "metadata": {
    "colab": {
     "base_uri": "https://localhost:8080/"
    },
    "id": "HcPTkaVYFKH-",
    "executionInfo": {
     "status": "ok",
     "timestamp": 1622559730228,
     "user_tz": -330,
     "elapsed": 39,
     "user": {
      "displayName": "sheh mal",
      "photoUrl": "",
      "userId": "16289089996100692924"
     }
    },
    "outputId": "195a42ed-282e-4a4c-aa1f-a5499d58e38a"
   },
   "source": [
    "trainy"
   ],
   "execution_count": null,
   "outputs": [
    {
     "output_type": "execute_result",
     "data": {
      "text/plain": [
       "array([[1],\n",
       "       [1],\n",
       "       [1],\n",
       "       [1],\n",
       "       [0],\n",
       "       [1],\n",
       "       [1],\n",
       "       [1],\n",
       "       [1],\n",
       "       [0],\n",
       "       [0],\n",
       "       [1],\n",
       "       [0],\n",
       "       [1],\n",
       "       [0],\n",
       "       [1],\n",
       "       [0],\n",
       "       [1],\n",
       "       [0],\n",
       "       [1],\n",
       "       [1],\n",
       "       [1],\n",
       "       [0],\n",
       "       [0],\n",
       "       [1],\n",
       "       [1],\n",
       "       [0]])"
      ]
     },
     "metadata": {
      "tags": []
     },
     "execution_count": 21
    }
   ]
  },
  {
   "cell_type": "code",
   "metadata": {
    "colab": {
     "base_uri": "https://localhost:8080/"
    },
    "id": "EIw5kkdBAzPj",
    "executionInfo": {
     "status": "ok",
     "timestamp": 1622559732449,
     "user_tz": -330,
     "elapsed": 2256,
     "user": {
      "displayName": "sheh mal",
      "photoUrl": "",
      "userId": "16289089996100692924"
     }
    },
    "outputId": "c498ad13-9fa5-4eae-b16d-e2313fa1d923"
   },
   "source": [
    "model.fit(trainx, trainy, epochs=100)"
   ],
   "execution_count": null,
   "outputs": [
    {
     "output_type": "stream",
     "text": [
      "Epoch 1/100\n",
      "1/1 [==============================] - 1s 721ms/step - loss: 0.0000e+00 - accuracy: 0.6296\n",
      "Epoch 2/100\n",
      "1/1 [==============================] - 0s 11ms/step - loss: 0.0000e+00 - accuracy: 0.6296\n",
      "Epoch 3/100\n",
      "1/1 [==============================] - 0s 8ms/step - loss: 0.0000e+00 - accuracy: 0.6296\n",
      "Epoch 4/100\n",
      "1/1 [==============================] - 0s 8ms/step - loss: 0.0000e+00 - accuracy: 0.6296\n",
      "Epoch 5/100\n",
      "1/1 [==============================] - 0s 8ms/step - loss: 0.0000e+00 - accuracy: 0.6296\n",
      "Epoch 6/100\n",
      "1/1 [==============================] - 0s 8ms/step - loss: 0.0000e+00 - accuracy: 0.6296\n",
      "Epoch 7/100\n",
      "1/1 [==============================] - 0s 8ms/step - loss: 0.0000e+00 - accuracy: 0.6296\n",
      "Epoch 8/100\n",
      "1/1 [==============================] - 0s 8ms/step - loss: 0.0000e+00 - accuracy: 0.6296\n",
      "Epoch 9/100\n",
      "1/1 [==============================] - 0s 8ms/step - loss: 0.0000e+00 - accuracy: 0.6296\n",
      "Epoch 10/100\n",
      "1/1 [==============================] - 0s 7ms/step - loss: 0.0000e+00 - accuracy: 0.6296\n",
      "Epoch 11/100\n",
      "1/1 [==============================] - 0s 6ms/step - loss: 0.0000e+00 - accuracy: 0.6296\n",
      "Epoch 12/100\n",
      "1/1 [==============================] - 0s 6ms/step - loss: 0.0000e+00 - accuracy: 0.6296\n",
      "Epoch 13/100\n",
      "1/1 [==============================] - 0s 6ms/step - loss: 0.0000e+00 - accuracy: 0.6296\n",
      "Epoch 14/100\n",
      "1/1 [==============================] - 0s 9ms/step - loss: 0.0000e+00 - accuracy: 0.6296\n",
      "Epoch 15/100\n",
      "1/1 [==============================] - 0s 5ms/step - loss: 0.0000e+00 - accuracy: 0.6296\n",
      "Epoch 16/100\n",
      "1/1 [==============================] - 0s 18ms/step - loss: 0.0000e+00 - accuracy: 0.6296\n",
      "Epoch 17/100\n",
      "1/1 [==============================] - 0s 7ms/step - loss: 0.0000e+00 - accuracy: 0.6296\n",
      "Epoch 18/100\n",
      "1/1 [==============================] - 0s 6ms/step - loss: 0.0000e+00 - accuracy: 0.6296\n",
      "Epoch 19/100\n",
      "1/1 [==============================] - 0s 9ms/step - loss: 0.0000e+00 - accuracy: 0.6296\n",
      "Epoch 20/100\n",
      "1/1 [==============================] - 0s 7ms/step - loss: 0.0000e+00 - accuracy: 0.6296\n",
      "Epoch 21/100\n",
      "1/1 [==============================] - 0s 7ms/step - loss: 0.0000e+00 - accuracy: 0.6296\n",
      "Epoch 22/100\n",
      "1/1 [==============================] - 0s 9ms/step - loss: 0.0000e+00 - accuracy: 0.6296\n",
      "Epoch 23/100\n",
      "1/1 [==============================] - 0s 10ms/step - loss: 0.0000e+00 - accuracy: 0.6296\n",
      "Epoch 24/100\n",
      "1/1 [==============================] - 0s 8ms/step - loss: 0.0000e+00 - accuracy: 0.6296\n",
      "Epoch 25/100\n",
      "1/1 [==============================] - 0s 10ms/step - loss: 0.0000e+00 - accuracy: 0.6296\n",
      "Epoch 26/100\n",
      "1/1 [==============================] - 0s 10ms/step - loss: 0.0000e+00 - accuracy: 0.6296\n",
      "Epoch 27/100\n",
      "1/1 [==============================] - 0s 7ms/step - loss: 0.0000e+00 - accuracy: 0.6296\n",
      "Epoch 28/100\n",
      "1/1 [==============================] - 0s 8ms/step - loss: 0.0000e+00 - accuracy: 0.6296\n",
      "Epoch 29/100\n",
      "1/1 [==============================] - 0s 7ms/step - loss: 0.0000e+00 - accuracy: 0.6296\n",
      "Epoch 30/100\n",
      "1/1 [==============================] - 0s 22ms/step - loss: 0.0000e+00 - accuracy: 0.6296\n",
      "Epoch 31/100\n",
      "1/1 [==============================] - 0s 9ms/step - loss: 0.0000e+00 - accuracy: 0.6296\n",
      "Epoch 32/100\n",
      "1/1 [==============================] - 0s 7ms/step - loss: 0.0000e+00 - accuracy: 0.6296\n",
      "Epoch 33/100\n",
      "1/1 [==============================] - 0s 10ms/step - loss: 0.0000e+00 - accuracy: 0.6296\n",
      "Epoch 34/100\n",
      "1/1 [==============================] - 0s 11ms/step - loss: 0.0000e+00 - accuracy: 0.6296\n",
      "Epoch 35/100\n",
      "1/1 [==============================] - 0s 8ms/step - loss: 0.0000e+00 - accuracy: 0.6296\n",
      "Epoch 36/100\n",
      "1/1 [==============================] - 0s 9ms/step - loss: 0.0000e+00 - accuracy: 0.6296\n",
      "Epoch 37/100\n",
      "1/1 [==============================] - 0s 7ms/step - loss: 0.0000e+00 - accuracy: 0.6296\n",
      "Epoch 38/100\n",
      "1/1 [==============================] - 0s 11ms/step - loss: 0.0000e+00 - accuracy: 0.6296\n",
      "Epoch 39/100\n",
      "1/1 [==============================] - 0s 10ms/step - loss: 0.0000e+00 - accuracy: 0.6296\n",
      "Epoch 40/100\n",
      "1/1 [==============================] - 0s 8ms/step - loss: 0.0000e+00 - accuracy: 0.6296\n",
      "Epoch 41/100\n",
      "1/1 [==============================] - 0s 8ms/step - loss: 0.0000e+00 - accuracy: 0.6296\n",
      "Epoch 42/100\n",
      "1/1 [==============================] - 0s 10ms/step - loss: 0.0000e+00 - accuracy: 0.6296\n",
      "Epoch 43/100\n",
      "1/1 [==============================] - 0s 8ms/step - loss: 0.0000e+00 - accuracy: 0.6296\n",
      "Epoch 44/100\n",
      "1/1 [==============================] - 0s 8ms/step - loss: 0.0000e+00 - accuracy: 0.6296\n",
      "Epoch 45/100\n",
      "1/1 [==============================] - 0s 9ms/step - loss: 0.0000e+00 - accuracy: 0.6296\n",
      "Epoch 46/100\n",
      "1/1 [==============================] - 0s 7ms/step - loss: 0.0000e+00 - accuracy: 0.6296\n",
      "Epoch 47/100\n",
      "1/1 [==============================] - 0s 8ms/step - loss: 0.0000e+00 - accuracy: 0.6296\n",
      "Epoch 48/100\n",
      "1/1 [==============================] - 0s 7ms/step - loss: 0.0000e+00 - accuracy: 0.6296\n",
      "Epoch 49/100\n",
      "1/1 [==============================] - 0s 8ms/step - loss: 0.0000e+00 - accuracy: 0.6296\n",
      "Epoch 50/100\n",
      "1/1 [==============================] - 0s 6ms/step - loss: 0.0000e+00 - accuracy: 0.6296\n",
      "Epoch 51/100\n",
      "1/1 [==============================] - 0s 8ms/step - loss: 0.0000e+00 - accuracy: 0.6296\n",
      "Epoch 52/100\n",
      "1/1 [==============================] - 0s 7ms/step - loss: 0.0000e+00 - accuracy: 0.6296\n",
      "Epoch 53/100\n",
      "1/1 [==============================] - 0s 10ms/step - loss: 0.0000e+00 - accuracy: 0.6296\n",
      "Epoch 54/100\n",
      "1/1 [==============================] - 0s 7ms/step - loss: 0.0000e+00 - accuracy: 0.6296\n",
      "Epoch 55/100\n",
      "1/1 [==============================] - 0s 15ms/step - loss: 0.0000e+00 - accuracy: 0.6296\n",
      "Epoch 56/100\n",
      "1/1 [==============================] - 0s 8ms/step - loss: 0.0000e+00 - accuracy: 0.6296\n",
      "Epoch 57/100\n",
      "1/1 [==============================] - 0s 8ms/step - loss: 0.0000e+00 - accuracy: 0.6296\n",
      "Epoch 58/100\n",
      "1/1 [==============================] - 0s 7ms/step - loss: 0.0000e+00 - accuracy: 0.6296\n",
      "Epoch 59/100\n",
      "1/1 [==============================] - 0s 9ms/step - loss: 0.0000e+00 - accuracy: 0.6296\n",
      "Epoch 60/100\n",
      "1/1 [==============================] - 0s 10ms/step - loss: 0.0000e+00 - accuracy: 0.6296\n",
      "Epoch 61/100\n",
      "1/1 [==============================] - 0s 7ms/step - loss: 0.0000e+00 - accuracy: 0.6296\n",
      "Epoch 62/100\n",
      "1/1 [==============================] - 0s 12ms/step - loss: 0.0000e+00 - accuracy: 0.6296\n",
      "Epoch 63/100\n",
      "1/1 [==============================] - 0s 8ms/step - loss: 0.0000e+00 - accuracy: 0.6296\n",
      "Epoch 64/100\n",
      "1/1 [==============================] - 0s 19ms/step - loss: 0.0000e+00 - accuracy: 0.6296\n",
      "Epoch 65/100\n",
      "1/1 [==============================] - 0s 10ms/step - loss: 0.0000e+00 - accuracy: 0.6296\n",
      "Epoch 66/100\n",
      "1/1 [==============================] - 0s 16ms/step - loss: 0.0000e+00 - accuracy: 0.6296\n",
      "Epoch 67/100\n",
      "1/1 [==============================] - 0s 14ms/step - loss: 0.0000e+00 - accuracy: 0.6296\n",
      "Epoch 68/100\n",
      "1/1 [==============================] - 0s 11ms/step - loss: 0.0000e+00 - accuracy: 0.6296\n",
      "Epoch 69/100\n",
      "1/1 [==============================] - 0s 10ms/step - loss: 0.0000e+00 - accuracy: 0.6296\n",
      "Epoch 70/100\n",
      "1/1 [==============================] - 0s 9ms/step - loss: 0.0000e+00 - accuracy: 0.6296\n",
      "Epoch 71/100\n",
      "1/1 [==============================] - 0s 8ms/step - loss: 0.0000e+00 - accuracy: 0.6296\n",
      "Epoch 72/100\n",
      "1/1 [==============================] - 0s 9ms/step - loss: 0.0000e+00 - accuracy: 0.6296\n",
      "Epoch 73/100\n",
      "1/1 [==============================] - 0s 7ms/step - loss: 0.0000e+00 - accuracy: 0.6296\n",
      "Epoch 74/100\n",
      "1/1 [==============================] - 0s 10ms/step - loss: 0.0000e+00 - accuracy: 0.6296\n",
      "Epoch 75/100\n",
      "1/1 [==============================] - 0s 8ms/step - loss: 0.0000e+00 - accuracy: 0.6296\n",
      "Epoch 76/100\n",
      "1/1 [==============================] - 0s 11ms/step - loss: 0.0000e+00 - accuracy: 0.6296\n",
      "Epoch 77/100\n",
      "1/1 [==============================] - 0s 7ms/step - loss: 0.0000e+00 - accuracy: 0.6296\n",
      "Epoch 78/100\n",
      "1/1 [==============================] - 0s 10ms/step - loss: 0.0000e+00 - accuracy: 0.6296\n",
      "Epoch 79/100\n",
      "1/1 [==============================] - 0s 8ms/step - loss: 0.0000e+00 - accuracy: 0.6296\n",
      "Epoch 80/100\n",
      "1/1 [==============================] - 0s 6ms/step - loss: 0.0000e+00 - accuracy: 0.6296\n",
      "Epoch 81/100\n",
      "1/1 [==============================] - 0s 11ms/step - loss: 0.0000e+00 - accuracy: 0.6296\n",
      "Epoch 82/100\n",
      "1/1 [==============================] - 0s 6ms/step - loss: 0.0000e+00 - accuracy: 0.6296\n",
      "Epoch 83/100\n",
      "1/1 [==============================] - 0s 5ms/step - loss: 0.0000e+00 - accuracy: 0.6296\n",
      "Epoch 84/100\n",
      "1/1 [==============================] - 0s 13ms/step - loss: 0.0000e+00 - accuracy: 0.6296\n",
      "Epoch 85/100\n",
      "1/1 [==============================] - 0s 14ms/step - loss: 0.0000e+00 - accuracy: 0.6296\n",
      "Epoch 86/100\n",
      "1/1 [==============================] - 0s 8ms/step - loss: 0.0000e+00 - accuracy: 0.6296\n",
      "Epoch 87/100\n",
      "1/1 [==============================] - 0s 9ms/step - loss: 0.0000e+00 - accuracy: 0.6296\n",
      "Epoch 88/100\n",
      "1/1 [==============================] - 0s 11ms/step - loss: 0.0000e+00 - accuracy: 0.6296\n",
      "Epoch 89/100\n",
      "1/1 [==============================] - 0s 14ms/step - loss: 0.0000e+00 - accuracy: 0.6296\n",
      "Epoch 90/100\n",
      "1/1 [==============================] - 0s 10ms/step - loss: 0.0000e+00 - accuracy: 0.6296\n",
      "Epoch 91/100\n",
      "1/1 [==============================] - 0s 7ms/step - loss: 0.0000e+00 - accuracy: 0.6296\n",
      "Epoch 92/100\n",
      "1/1 [==============================] - 0s 21ms/step - loss: 0.0000e+00 - accuracy: 0.6296\n",
      "Epoch 93/100\n",
      "1/1 [==============================] - 0s 16ms/step - loss: 0.0000e+00 - accuracy: 0.6296\n",
      "Epoch 94/100\n",
      "1/1 [==============================] - 0s 12ms/step - loss: 0.0000e+00 - accuracy: 0.6296\n",
      "Epoch 95/100\n",
      "1/1 [==============================] - 0s 9ms/step - loss: 0.0000e+00 - accuracy: 0.6296\n",
      "Epoch 96/100\n",
      "1/1 [==============================] - 0s 11ms/step - loss: 0.0000e+00 - accuracy: 0.6296\n",
      "Epoch 97/100\n",
      "1/1 [==============================] - 0s 7ms/step - loss: 0.0000e+00 - accuracy: 0.6296\n",
      "Epoch 98/100\n",
      "1/1 [==============================] - 0s 23ms/step - loss: 0.0000e+00 - accuracy: 0.6296\n",
      "Epoch 99/100\n",
      "1/1 [==============================] - 0s 8ms/step - loss: 0.0000e+00 - accuracy: 0.6296\n",
      "Epoch 100/100\n",
      "1/1 [==============================] - 0s 17ms/step - loss: 0.0000e+00 - accuracy: 0.6296\n"
     ],
     "name": "stdout"
    },
    {
     "output_type": "execute_result",
     "data": {
      "text/plain": [
       "<tensorflow.python.keras.callbacks.History at 0x7f6ca7d822d0>"
      ]
     },
     "metadata": {
      "tags": []
     },
     "execution_count": 22
    }
   ]
  },
  {
   "cell_type": "code",
   "metadata": {
    "id": "-c6IY4YRA2f2"
   },
   "source": [
    ""
   ],
   "execution_count": null,
   "outputs": []
  }
 ]
}